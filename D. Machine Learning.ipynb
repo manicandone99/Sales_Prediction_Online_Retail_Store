{
 "cells": [
  {
   "cell_type": "markdown",
   "metadata": {},
   "source": [
    "# Machine Learning\n",
    "\n"
   ]
  },
  {
   "cell_type": "code",
   "execution_count": 3,
   "metadata": {},
   "outputs": [],
   "source": [
    "# Import required packages\n",
    "\n",
    "import pandas as pd\n",
    "import numpy as np\n",
    "import seaborn as sns\n",
    "import matplotlib.pyplot as plt\n",
    "from scipy import stats\n",
    "from sklearn.linear_model import LinearRegression\n",
    "from sklearn.metrics import mean_squared_error\n",
    "from sklearn.model_selection import train_test_split\n",
    "\n",
    "sns.set()"
   ]
  },
  {
   "cell_type": "code",
   "execution_count": 4,
   "metadata": {},
   "outputs": [
    {
     "data": {
      "text/html": [
       "<div>\n",
       "<style scoped>\n",
       "    .dataframe tbody tr th:only-of-type {\n",
       "        vertical-align: middle;\n",
       "    }\n",
       "\n",
       "    .dataframe tbody tr th {\n",
       "        vertical-align: top;\n",
       "    }\n",
       "\n",
       "    .dataframe thead th {\n",
       "        text-align: right;\n",
       "    }\n",
       "</style>\n",
       "<table border=\"1\" class=\"dataframe\">\n",
       "  <thead>\n",
       "    <tr style=\"text-align: right;\">\n",
       "      <th></th>\n",
       "      <th>InvoiceDate</th>\n",
       "      <th>StockCode</th>\n",
       "      <th>Quantity</th>\n",
       "      <th>TotalPrice</th>\n",
       "      <th>Weekday</th>\n",
       "      <th>Day</th>\n",
       "      <th>UnitPrice</th>\n",
       "      <th>Week</th>\n",
       "    </tr>\n",
       "  </thead>\n",
       "  <tbody>\n",
       "    <tr>\n",
       "      <th>0</th>\n",
       "      <td>2009-12-01</td>\n",
       "      <td>10002</td>\n",
       "      <td>12</td>\n",
       "      <td>10.20</td>\n",
       "      <td>1</td>\n",
       "      <td>1</td>\n",
       "      <td>0.85</td>\n",
       "      <td>1</td>\n",
       "    </tr>\n",
       "    <tr>\n",
       "      <th>1</th>\n",
       "      <td>2009-12-01</td>\n",
       "      <td>10120</td>\n",
       "      <td>60</td>\n",
       "      <td>12.60</td>\n",
       "      <td>1</td>\n",
       "      <td>1</td>\n",
       "      <td>0.21</td>\n",
       "      <td>1</td>\n",
       "    </tr>\n",
       "    <tr>\n",
       "      <th>2</th>\n",
       "      <td>2009-12-01</td>\n",
       "      <td>10125</td>\n",
       "      <td>4</td>\n",
       "      <td>3.40</td>\n",
       "      <td>1</td>\n",
       "      <td>1</td>\n",
       "      <td>0.85</td>\n",
       "      <td>1</td>\n",
       "    </tr>\n",
       "    <tr>\n",
       "      <th>3</th>\n",
       "      <td>2009-12-01</td>\n",
       "      <td>10133</td>\n",
       "      <td>6</td>\n",
       "      <td>5.10</td>\n",
       "      <td>1</td>\n",
       "      <td>1</td>\n",
       "      <td>0.85</td>\n",
       "      <td>1</td>\n",
       "    </tr>\n",
       "    <tr>\n",
       "      <th>4</th>\n",
       "      <td>2009-12-01</td>\n",
       "      <td>10135</td>\n",
       "      <td>17</td>\n",
       "      <td>21.25</td>\n",
       "      <td>1</td>\n",
       "      <td>1</td>\n",
       "      <td>1.25</td>\n",
       "      <td>1</td>\n",
       "    </tr>\n",
       "  </tbody>\n",
       "</table>\n",
       "</div>"
      ],
      "text/plain": [
       "  InvoiceDate StockCode  Quantity  TotalPrice  Weekday  Day  UnitPrice  Week\n",
       "0  2009-12-01     10002        12       10.20        1    1       0.85     1\n",
       "1  2009-12-01     10120        60       12.60        1    1       0.21     1\n",
       "2  2009-12-01     10125         4        3.40        1    1       0.85     1\n",
       "3  2009-12-01     10133         6        5.10        1    1       0.85     1\n",
       "4  2009-12-01     10135        17       21.25        1    1       1.25     1"
      ]
     },
     "execution_count": 4,
     "metadata": {},
     "output_type": "execute_result"
    }
   ],
   "source": [
    "# Read the previous csv file as dataframe\n",
    "df = pd.read_csv('data_inference.csv').drop(['Unnamed: 0'],axis=1)\n",
    "df.head()"
   ]
  },
  {
   "cell_type": "markdown",
   "metadata": {},
   "source": [
    "#### Our final dataset is ready to carry out machine learning operations."
   ]
  },
  {
   "cell_type": "markdown",
   "metadata": {},
   "source": [
    "## Machine Learning Process and Methodology\n",
    "\n",
    "To find the best model for our purpose, we will train our data on different algorithms, compare their performance based on the Root mean square error of the prediction and time taken to fit/predict the model, and select the best. \n",
    "\n",
    "### Algorithms employed:\n",
    "1. Linear Regression\n",
    "2. Regularization Model - Ridge\n",
    "3. Regularization Model - Lasso\n",
    "4. Ensemble Model - Random Forest\n",
    "1. Ensemble Model - Gradient Boost\n",
    "1. Ensemble Model - Ada Boost\n",
    "\n",
    "After training and evaluating our data on the above algorithms, we will also use model stacking.\n",
    "\n",
    "7. Stack - Linear Regression\n",
    "8. Stack - Random Forest\n",
    "9. Stack - Gradient Boost"
   ]
  },
  {
   "cell_type": "markdown",
   "metadata": {},
   "source": [
    "### Train-test split\n",
    "\n",
    "We will hold out the data for last month from Nov-01-2011 to Dec-09-2011 as our test set, and the remaining data will be used to train our model."
   ]
  },
  {
   "cell_type": "code",
   "execution_count": 5,
   "metadata": {},
   "outputs": [],
   "source": [
    "# Split the dataset into train and test dataset\n",
    "\n",
    "df_train = df[df.InvoiceDate<'2011-11-01']\n",
    "df_test = df[df.InvoiceDate>='2011-11-01']"
   ]
  },
  {
   "cell_type": "code",
   "execution_count": 6,
   "metadata": {},
   "outputs": [
    {
     "data": {
      "text/html": [
       "<div>\n",
       "<style scoped>\n",
       "    .dataframe tbody tr th:only-of-type {\n",
       "        vertical-align: middle;\n",
       "    }\n",
       "\n",
       "    .dataframe tbody tr th {\n",
       "        vertical-align: top;\n",
       "    }\n",
       "\n",
       "    .dataframe thead th {\n",
       "        text-align: right;\n",
       "    }\n",
       "</style>\n",
       "<table border=\"1\" class=\"dataframe\">\n",
       "  <thead>\n",
       "    <tr style=\"text-align: right;\">\n",
       "      <th></th>\n",
       "      <th>InvoiceDate</th>\n",
       "      <th>StockCode</th>\n",
       "      <th>Quantity</th>\n",
       "      <th>TotalPrice</th>\n",
       "      <th>Weekday</th>\n",
       "      <th>Day</th>\n",
       "      <th>UnitPrice</th>\n",
       "      <th>Week</th>\n",
       "    </tr>\n",
       "  </thead>\n",
       "  <tbody>\n",
       "    <tr>\n",
       "      <th>0</th>\n",
       "      <td>2009-12-01</td>\n",
       "      <td>10002</td>\n",
       "      <td>12</td>\n",
       "      <td>10.20</td>\n",
       "      <td>1</td>\n",
       "      <td>1</td>\n",
       "      <td>0.85</td>\n",
       "      <td>1</td>\n",
       "    </tr>\n",
       "    <tr>\n",
       "      <th>1</th>\n",
       "      <td>2009-12-01</td>\n",
       "      <td>10120</td>\n",
       "      <td>60</td>\n",
       "      <td>12.60</td>\n",
       "      <td>1</td>\n",
       "      <td>1</td>\n",
       "      <td>0.21</td>\n",
       "      <td>1</td>\n",
       "    </tr>\n",
       "    <tr>\n",
       "      <th>2</th>\n",
       "      <td>2009-12-01</td>\n",
       "      <td>10125</td>\n",
       "      <td>4</td>\n",
       "      <td>3.40</td>\n",
       "      <td>1</td>\n",
       "      <td>1</td>\n",
       "      <td>0.85</td>\n",
       "      <td>1</td>\n",
       "    </tr>\n",
       "    <tr>\n",
       "      <th>3</th>\n",
       "      <td>2009-12-01</td>\n",
       "      <td>10133</td>\n",
       "      <td>6</td>\n",
       "      <td>5.10</td>\n",
       "      <td>1</td>\n",
       "      <td>1</td>\n",
       "      <td>0.85</td>\n",
       "      <td>1</td>\n",
       "    </tr>\n",
       "    <tr>\n",
       "      <th>4</th>\n",
       "      <td>2009-12-01</td>\n",
       "      <td>10135</td>\n",
       "      <td>17</td>\n",
       "      <td>21.25</td>\n",
       "      <td>1</td>\n",
       "      <td>1</td>\n",
       "      <td>1.25</td>\n",
       "      <td>1</td>\n",
       "    </tr>\n",
       "  </tbody>\n",
       "</table>\n",
       "</div>"
      ],
      "text/plain": [
       "  InvoiceDate StockCode  Quantity  TotalPrice  Weekday  Day  UnitPrice  Week\n",
       "0  2009-12-01     10002        12       10.20        1    1       0.85     1\n",
       "1  2009-12-01     10120        60       12.60        1    1       0.21     1\n",
       "2  2009-12-01     10125         4        3.40        1    1       0.85     1\n",
       "3  2009-12-01     10133         6        5.10        1    1       0.85     1\n",
       "4  2009-12-01     10135        17       21.25        1    1       1.25     1"
      ]
     },
     "execution_count": 6,
     "metadata": {},
     "output_type": "execute_result"
    }
   ],
   "source": [
    "df_train.head()"
   ]
  },
  {
   "cell_type": "code",
   "execution_count": 7,
   "metadata": {},
   "outputs": [],
   "source": [
    "# Define the feature and target variables\n",
    "\n",
    "X_train = df_train.drop(labels=['InvoiceDate','StockCode','Quantity','TotalPrice'],axis=1)\n",
    "y_train = df_train.Quantity\n",
    "\n",
    "X_test = df_test.drop(labels=['InvoiceDate','StockCode','Quantity','TotalPrice'],axis=1)\n",
    "y_test = df_test.Quantity"
   ]
  },
  {
   "cell_type": "code",
   "execution_count": 8,
   "metadata": {},
   "outputs": [],
   "source": [
    "# Data Frame to store all the RMSE scores for various algorithms\n",
    "algo_score = pd.DataFrame()\n",
    "algo_score.index.name = 'Modelling Algo'\n",
    "algo_score['Train RMSE'] = None\n",
    "algo_score['Test RMSE'] = None\n",
    "algo_score['Hyperparameters'] = None\n",
    "algo_score['Training+Test Time(sec)'] = None\n",
    "\n",
    "cv_time = []\n",
    "\n",
    "# Dataframes for second level of predictions. Collect the predicted y values for training and test set of data\n",
    "ypred_train = pd.DataFrame(index = X_train.index)\n",
    "ypred_test = pd.DataFrame(index = X_test.index)\n",
    "\n",
    "ypred_train['quantity'], ypred_test['quantity'] = y_train, y_test\n"
   ]
  },
  {
   "cell_type": "markdown",
   "metadata": {},
   "source": [
    "We will define functions to measure the model, apply cross validation, and predict on train and test datasets. We have not included model fitting in the functions as that will happen as part of hyperparameter tuning"
   ]
  },
  {
   "cell_type": "code",
   "execution_count": 9,
   "metadata": {},
   "outputs": [],
   "source": [
    "from sklearn.metrics import make_scorer\n",
    "\n",
    "# Metric used to measure the model (Root Mean Square Error)\n",
    "def rmse(y_actual, y_pred):\n",
    "    rmse = np.sqrt(mean_squared_error(y_actual,y_pred))\n",
    "    return rmse\n",
    "rmse_cv = make_scorer(rmse, greater_is_better=False)"
   ]
  },
  {
   "cell_type": "markdown",
   "metadata": {},
   "source": [
    "plot_true_vs_pred: This is used to plot True and Predicted count values for a particular time interval\n",
    "\n"
   ]
  },
  {
   "cell_type": "code",
   "execution_count": 10,
   "metadata": {},
   "outputs": [],
   "source": [
    "# Plots True vs. Predicted count values\n",
    "def plot_true_vs_pred (y_actual, y_pred):\n",
    "    fig = plt.figure(figsize=(18, 16))\n",
    "    \n",
    "    pred_val = pd.DataFrame({'actual':y_actual,'predicted':y_pred})\n",
    "    pred_val['error']=abs(pred_val.actual-pred_val.predicted)\n",
    "    sns.swarmplot(pred_val.actual.round(0),pred_val.error)\n",
    "    \n",
    "    plt.show()"
   ]
  },
  {
   "cell_type": "code",
   "execution_count": 11,
   "metadata": {},
   "outputs": [],
   "source": [
    "# Function to predict on train and test data and return the required metrics\n",
    "def model_fit(model, X_train, y_train, X_test, y_test):\n",
    "    ''' \n",
    "    Input:\n",
    "        model = model to be applied\n",
    "        X_train y_train = Training data\n",
    "        X_test, y_test = Testing data\n",
    "    Output:\n",
    "        rmse for training and test data \n",
    "        predicted y for training and test data\n",
    "    \n",
    "    '''\n",
    "#     model.fit(X_train, y_train)\n",
    "    y_train_predict = model.predict(X_train)\n",
    "    y_test_predict = model.predict(X_test)\n",
    "    \n",
    "    rmse_train = rmse(y_train, y_train_predict)\n",
    "    rmse_test = rmse(y_test, y_test_predict)\n",
    "    \n",
    "    rmse_all = [rmse_train, rmse_test]\n",
    "    y_pred_all = [y_train_predict, y_test_predict]\n",
    "    \n",
    "    return(rmse_all, y_pred_all)"
   ]
  },
  {
   "cell_type": "code",
   "execution_count": 12,
   "metadata": {},
   "outputs": [],
   "source": [
    "from sklearn.model_selection import cross_val_predict\n",
    "def cross_val(model, X_train, y_train, cv=5):\n",
    "#     y_pred = pd.Series(index=y_train.index)\n",
    "    y_pred = cross_val_predict(model,X_train,y_train,cv=5)\n",
    "\n",
    "    rmse_train = rmse(y_train,y_pred)\n",
    "    return(rmse_train, y_pred)\n"
   ]
  },
  {
   "cell_type": "markdown",
   "metadata": {},
   "source": [
    "## Linear Regression"
   ]
  },
  {
   "cell_type": "code",
   "execution_count": 13,
   "metadata": {},
   "outputs": [
    {
     "name": "stdout",
     "output_type": "stream",
     "text": [
      "CPU times: total: 0 ns\n",
      "Wall time: 72.1 ms\n",
      "CPU times: total: 0 ns\n",
      "Wall time: 22 ms\n"
     ]
    }
   ],
   "source": [
    "from sklearn.linear_model import LinearRegression\n",
    "\n",
    "reg = LinearRegression()\n",
    "\n",
    "param_summary = ['','']\n",
    "\n",
    "%time reg.fit(X_train, y_train)\n",
    "%time rmse_summary, y_predict_summary = model_fit(reg, X_train, y_train, X_test, y_test)\n",
    "\n",
    "ypred_test['LR'] = y_predict_summary[1]  \n",
    "ypred_train['LR'] = y_predict_summary[0]\n",
    "\n",
    "algo_score.loc['Linear Regression'] = rmse_summary+param_summary"
   ]
  },
  {
   "cell_type": "code",
   "execution_count": 14,
   "metadata": {},
   "outputs": [
    {
     "data": {
      "text/html": [
       "<div>\n",
       "<style scoped>\n",
       "    .dataframe tbody tr th:only-of-type {\n",
       "        vertical-align: middle;\n",
       "    }\n",
       "\n",
       "    .dataframe tbody tr th {\n",
       "        vertical-align: top;\n",
       "    }\n",
       "\n",
       "    .dataframe thead th {\n",
       "        text-align: right;\n",
       "    }\n",
       "</style>\n",
       "<table border=\"1\" class=\"dataframe\">\n",
       "  <thead>\n",
       "    <tr style=\"text-align: right;\">\n",
       "      <th></th>\n",
       "      <th>Train RMSE</th>\n",
       "      <th>Test RMSE</th>\n",
       "      <th>Hyperparameters</th>\n",
       "      <th>Training+Test Time(sec)</th>\n",
       "    </tr>\n",
       "    <tr>\n",
       "      <th>Modelling Algo</th>\n",
       "      <th></th>\n",
       "      <th></th>\n",
       "      <th></th>\n",
       "      <th></th>\n",
       "    </tr>\n",
       "  </thead>\n",
       "  <tbody>\n",
       "    <tr>\n",
       "      <th>Linear Regression</th>\n",
       "      <td>29.847573</td>\n",
       "      <td>30.228254</td>\n",
       "      <td></td>\n",
       "      <td>0.516</td>\n",
       "    </tr>\n",
       "  </tbody>\n",
       "</table>\n",
       "</div>"
      ],
      "text/plain": [
       "                   Train RMSE  Test RMSE Hyperparameters  \\\n",
       "Modelling Algo                                             \n",
       "Linear Regression   29.847573  30.228254                   \n",
       "\n",
       "                  Training+Test Time(sec)  \n",
       "Modelling Algo                             \n",
       "Linear Regression                   0.516  "
      ]
     },
     "execution_count": 14,
     "metadata": {},
     "output_type": "execute_result"
    }
   ],
   "source": [
    "algo_score.loc['Linear Regression', 'Training+Test Time(sec)'] = 0.516\n",
    "cv_time.append(0.516)\n",
    "algo_score"
   ]
  },
  {
   "cell_type": "markdown",
   "metadata": {},
   "source": [
    "#### Observations\n",
    "\n",
    "Not an overfit model - both train and test RMSE are more or less similar"
   ]
  },
  {
   "cell_type": "code",
   "execution_count": 15,
   "metadata": {},
   "outputs": [],
   "source": [
    "# Features and the Estimated Linear Regression Coefficients\n",
    "df_coeff = pd.DataFrame({'features': X_train.columns, 'Lin_Coeff': reg.coef_})"
   ]
  },
  {
   "cell_type": "code",
   "execution_count": 16,
   "metadata": {},
   "outputs": [],
   "source": [
    "# Linear Regression Plot: True vs. Predicted\n",
    "# plot_true_vs_pred(y_test,y_predict_summary[1])"
   ]
  },
  {
   "cell_type": "markdown",
   "metadata": {},
   "source": [
    "### Regularization Model - Ridge\n"
   ]
  },
  {
   "cell_type": "code",
   "execution_count": 17,
   "metadata": {},
   "outputs": [
    {
     "name": "stdout",
     "output_type": "stream",
     "text": [
      "CPU times: total: 750 ms\n",
      "Wall time: 2.58 s\n",
      "Best alpha for Ridge Regression Model: {'alpha': 100}\n"
     ]
    }
   ],
   "source": [
    "from sklearn.linear_model import Ridge\n",
    "from sklearn.model_selection import GridSearchCV\n",
    "\n",
    "# Hyperparameter Tuning\n",
    "param_grid = {'alpha': [0.1, 0.2, 0.5, 1, 2, 5, 10, 20, 50, 100]}\n",
    "ridge = GridSearchCV(Ridge(random_state=42), param_grid, cv=5, scoring=rmse_cv)\n",
    "%time ridge.fit(X_train, y_train)\n",
    "print('Best alpha for Ridge Regression Model: {}'.format(ridge.best_params_))"
   ]
  },
  {
   "cell_type": "code",
   "execution_count": 18,
   "metadata": {},
   "outputs": [
    {
     "name": "stdout",
     "output_type": "stream",
     "text": [
      "CPU times: total: 562 ms\n",
      "Wall time: 1.86 s\n",
      "Best alpha for Ridge Regression Model: {'alpha': 145}\n"
     ]
    }
   ],
   "source": [
    "# Fine tune Hyperparameter for edge cases\n",
    "param_grid = {'alpha': np.arange(75,150,10)}\n",
    "ridge = GridSearchCV(Ridge(random_state=42), param_grid, cv=5, scoring=rmse_cv)\n",
    "%time ridge.fit(X_train, y_train)\n",
    "print('Best alpha for Ridge Regression Model: {}'.format(ridge.best_params_))"
   ]
  },
  {
   "cell_type": "code",
   "execution_count": 19,
   "metadata": {},
   "outputs": [
    {
     "name": "stdout",
     "output_type": "stream",
     "text": [
      "CPU times: total: 0 ns\n",
      "Wall time: 23.4 ms\n"
     ]
    }
   ],
   "source": [
    "param_summary = [ridge.best_params_,'']\n",
    "\n",
    "%time rmse_summary, y_predict_summary = model_fit(ridge, X_train, y_train, X_test, y_test)\n",
    "\n",
    "ypred_test['Ridge'] = y_predict_summary[1]  \n",
    "ypred_train['Ridge'] = y_predict_summary[0]\n",
    "\n",
    "algo_score.loc['Ridge Regression'] = rmse_summary+param_summary"
   ]
  },
  {
   "cell_type": "code",
   "execution_count": 20,
   "metadata": {},
   "outputs": [
    {
     "data": {
      "text/html": [
       "<div>\n",
       "<style scoped>\n",
       "    .dataframe tbody tr th:only-of-type {\n",
       "        vertical-align: middle;\n",
       "    }\n",
       "\n",
       "    .dataframe tbody tr th {\n",
       "        vertical-align: top;\n",
       "    }\n",
       "\n",
       "    .dataframe thead th {\n",
       "        text-align: right;\n",
       "    }\n",
       "</style>\n",
       "<table border=\"1\" class=\"dataframe\">\n",
       "  <thead>\n",
       "    <tr style=\"text-align: right;\">\n",
       "      <th></th>\n",
       "      <th>Train RMSE</th>\n",
       "      <th>Test RMSE</th>\n",
       "      <th>Hyperparameters</th>\n",
       "      <th>Training+Test Time(sec)</th>\n",
       "    </tr>\n",
       "    <tr>\n",
       "      <th>Modelling Algo</th>\n",
       "      <th></th>\n",
       "      <th></th>\n",
       "      <th></th>\n",
       "      <th></th>\n",
       "    </tr>\n",
       "  </thead>\n",
       "  <tbody>\n",
       "    <tr>\n",
       "      <th>Linear Regression</th>\n",
       "      <td>29.847573</td>\n",
       "      <td>30.228254</td>\n",
       "      <td></td>\n",
       "      <td>0.516</td>\n",
       "    </tr>\n",
       "    <tr>\n",
       "      <th>Ridge Regression</th>\n",
       "      <td>29.847569</td>\n",
       "      <td>30.228295</td>\n",
       "      <td>{'alpha': 145}</td>\n",
       "      <td>6.917</td>\n",
       "    </tr>\n",
       "  </tbody>\n",
       "</table>\n",
       "</div>"
      ],
      "text/plain": [
       "                   Train RMSE  Test RMSE Hyperparameters  \\\n",
       "Modelling Algo                                             \n",
       "Linear Regression   29.847573  30.228254                   \n",
       "Ridge Regression    29.847569  30.228295  {'alpha': 145}   \n",
       "\n",
       "                  Training+Test Time(sec)  \n",
       "Modelling Algo                             \n",
       "Linear Regression                   0.516  \n",
       "Ridge Regression                    6.917  "
      ]
     },
     "execution_count": 20,
     "metadata": {},
     "output_type": "execute_result"
    }
   ],
   "source": [
    "algo_score.loc['Ridge Regression', 'Training+Test Time(sec)'] = 6.917\n",
    "cv_time.append(6.917)\n",
    "algo_score"
   ]
  },
  {
   "cell_type": "markdown",
   "metadata": {},
   "source": [
    "#### Observations\n",
    "\n",
    "Ridge gives almost similar performance as Linear Regression. It is not an overfit model"
   ]
  },
  {
   "cell_type": "code",
   "execution_count": 21,
   "metadata": {},
   "outputs": [],
   "source": [
    "# Features and the Estimated Ridge Regression Coefficients\n",
    "df_coeff['Ridge_Coeff'] = ridge.best_estimator_.coef_\n"
   ]
  },
  {
   "cell_type": "code",
   "execution_count": 22,
   "metadata": {},
   "outputs": [],
   "source": [
    "# plot_true_vs_pred(y_test,y_predict_summary[1])\n"
   ]
  },
  {
   "cell_type": "markdown",
   "metadata": {},
   "source": [
    "### Regularization Model - Lasso"
   ]
  },
  {
   "cell_type": "code",
   "execution_count": 23,
   "metadata": {},
   "outputs": [
    {
     "name": "stdout",
     "output_type": "stream",
     "text": [
      "CPU times: total: 781 ms\n",
      "Wall time: 3.43 s\n",
      "Best alpha for Lasso Regression Model: {'alpha': 0.5}\n"
     ]
    }
   ],
   "source": [
    "from sklearn.linear_model import Lasso\n",
    "from sklearn.model_selection import GridSearchCV\n",
    "\n",
    "# Hyperparameter Tuning\n",
    "param_grid = {'alpha': [0.1, 0.2, 0.5, 1, 2, 5, 10, 20, 50, 100]}\n",
    "lasso = GridSearchCV(Lasso(random_state=42), param_grid, cv=5, scoring=rmse_cv)\n",
    "%time lasso.fit(X_train, y_train)\n",
    "print('Best alpha for Lasso Regression Model: {}'.format(lasso.best_params_))"
   ]
  },
  {
   "cell_type": "code",
   "execution_count": 24,
   "metadata": {},
   "outputs": [
    {
     "name": "stdout",
     "output_type": "stream",
     "text": [
      "CPU times: total: 2.22 s\n",
      "Wall time: 7.92 s\n",
      "Best alpha for Lasso Regression Model: {'alpha': 0.24000000000000002}\n"
     ]
    }
   ],
   "source": [
    "# Fine tune Hyperparameter for edge case\n",
    "\n",
    "param_grid = {'alpha': np.arange(.01,.25,.01)}\n",
    "lasso = GridSearchCV(Lasso(random_state=42), param_grid, cv=5, scoring=rmse_cv)\n",
    "%time lasso.fit(X_train, y_train)\n",
    "print('Best alpha for Lasso Regression Model: {}'.format(lasso.best_params_))"
   ]
  },
  {
   "cell_type": "code",
   "execution_count": 25,
   "metadata": {},
   "outputs": [
    {
     "name": "stdout",
     "output_type": "stream",
     "text": [
      "CPU times: total: 0 ns\n",
      "Wall time: 18.4 ms\n"
     ]
    }
   ],
   "source": [
    "param_summary = [lasso.best_params_,'']\n",
    "\n",
    "%time rmse_summary, y_predict_summary = model_fit(lasso, X_train, y_train, X_test, y_test)\n",
    "ypred_test['Lasso'] = y_predict_summary[1]\n",
    "ypred_train['Lasso'] = y_predict_summary[0]\n",
    "\n",
    "algo_score.loc['Lasso Regression'] = rmse_summary+param_summary"
   ]
  },
  {
   "cell_type": "code",
   "execution_count": 26,
   "metadata": {},
   "outputs": [
    {
     "data": {
      "text/html": [
       "<div>\n",
       "<style scoped>\n",
       "    .dataframe tbody tr th:only-of-type {\n",
       "        vertical-align: middle;\n",
       "    }\n",
       "\n",
       "    .dataframe tbody tr th {\n",
       "        vertical-align: top;\n",
       "    }\n",
       "\n",
       "    .dataframe thead th {\n",
       "        text-align: right;\n",
       "    }\n",
       "</style>\n",
       "<table border=\"1\" class=\"dataframe\">\n",
       "  <thead>\n",
       "    <tr style=\"text-align: right;\">\n",
       "      <th></th>\n",
       "      <th>Train RMSE</th>\n",
       "      <th>Test RMSE</th>\n",
       "      <th>Hyperparameters</th>\n",
       "      <th>Training+Test Time(sec)</th>\n",
       "    </tr>\n",
       "    <tr>\n",
       "      <th>Modelling Algo</th>\n",
       "      <th></th>\n",
       "      <th></th>\n",
       "      <th></th>\n",
       "      <th></th>\n",
       "    </tr>\n",
       "  </thead>\n",
       "  <tbody>\n",
       "    <tr>\n",
       "      <th>Linear Regression</th>\n",
       "      <td>29.847573</td>\n",
       "      <td>30.228254</td>\n",
       "      <td></td>\n",
       "      <td>0.516</td>\n",
       "    </tr>\n",
       "    <tr>\n",
       "      <th>Ridge Regression</th>\n",
       "      <td>29.847569</td>\n",
       "      <td>30.228295</td>\n",
       "      <td>{'alpha': 145}</td>\n",
       "      <td>6.917</td>\n",
       "    </tr>\n",
       "    <tr>\n",
       "      <th>Lasso Regression</th>\n",
       "      <td>29.847876</td>\n",
       "      <td>30.233222</td>\n",
       "      <td>{'alpha': 0.24000000000000002}</td>\n",
       "      <td>31.328</td>\n",
       "    </tr>\n",
       "  </tbody>\n",
       "</table>\n",
       "</div>"
      ],
      "text/plain": [
       "                   Train RMSE  Test RMSE                 Hyperparameters  \\\n",
       "Modelling Algo                                                             \n",
       "Linear Regression   29.847573  30.228254                                   \n",
       "Ridge Regression    29.847569  30.228295                  {'alpha': 145}   \n",
       "Lasso Regression    29.847876  30.233222  {'alpha': 0.24000000000000002}   \n",
       "\n",
       "                  Training+Test Time(sec)  \n",
       "Modelling Algo                             \n",
       "Linear Regression                   0.516  \n",
       "Ridge Regression                    6.917  \n",
       "Lasso Regression                   31.328  "
      ]
     },
     "execution_count": 26,
     "metadata": {},
     "output_type": "execute_result"
    }
   ],
   "source": [
    "algo_score.loc['Lasso Regression', 'Training+Test Time(sec)'] = 31.328\n",
    "cv_time.append(31.328)\n",
    "algo_score"
   ]
  },
  {
   "cell_type": "markdown",
   "metadata": {},
   "source": [
    "#### Observations\n",
    "\n",
    "Lasso regression also shows almost similar performance as Linear and Ridge regression"
   ]
  },
  {
   "cell_type": "code",
   "execution_count": 27,
   "metadata": {},
   "outputs": [],
   "source": [
    "# Features and the Estimated Lasso Regression Coefficients\n",
    "df_coeff['Lasso_Coeff'] = lasso.best_estimator_.coef_\n"
   ]
  },
  {
   "cell_type": "code",
   "execution_count": 28,
   "metadata": {},
   "outputs": [],
   "source": [
    "# plot_true_vs_pred(y_test,y_predict_summary[1])\n"
   ]
  },
  {
   "cell_type": "markdown",
   "metadata": {},
   "source": [
    "### Plotting the coefficients obtained from Linear, Ridge and Lasso regression"
   ]
  },
  {
   "cell_type": "code",
   "execution_count": 29,
   "metadata": {},
   "outputs": [
    {
     "data": {
      "text/plain": [
       "<matplotlib.legend.Legend at 0x2031a57ec60>"
      ]
     },
     "execution_count": 29,
     "metadata": {},
     "output_type": "execute_result"
    },
    {
     "data": {
      "image/png": "[encoded data removed]",
      "text/plain": [
       "<Figure size 1000x500 with 1 Axes>"
      ]
     },
     "metadata": {},
     "output_type": "display_data"
    }
   ],
   "source": [
    "fig = plt.figure(figsize=(10, 5))\n",
    "\n",
    "axes = fig.add_subplot(1, 1, 1)\n",
    "axes.plot(df_coeff.Lin_Coeff, label='Linear Regression', marker='.', markersize=15)\n",
    "axes.plot(df_coeff.Ridge_Coeff, label='Ridge Regression, alpha={}'.format(ridge.best_params_['alpha']), alpha=.5,marker='.', markersize=15)\n",
    "axes.plot(df_coeff.Lasso_Coeff, label='Lasso Regression, alpha={}'.format(lasso.best_params_['alpha']), marker='.', markersize=15)\n",
    "\n",
    "plt.xticks(range(len(df_coeff.Lin_Coeff)), df_coeff.features, rotation=90)\n",
    "axes.set(ylabel='Estimated Regression Coefficients', title='Coefficients for different models')\n",
    "axes.set(xlim=[-1, len(df_coeff.Lin_Coeff)])\n",
    "axes.legend()\n"
   ]
  },
  {
   "cell_type": "markdown",
   "metadata": {},
   "source": [
    "#### Observations\n",
    "\n",
    "As seen above, Weekday and UnitPrice are most important features"
   ]
  },
  {
   "cell_type": "markdown",
   "metadata": {},
   "source": [
    "### Ensemble Model - Random Forest\n"
   ]
  },
  {
   "cell_type": "code",
   "execution_count": 50,
   "metadata": {},
   "outputs": [],
   "source": [
    "# Random Forest Regression Hyperparameter tuning using Grid Search to obtain the best parameters. \n",
    "\n",
    "from sklearn.ensemble import RandomForestRegressor\n",
    "from sklearn.model_selection import GridSearchCV\n",
    "from sklearn.model_selection import RandomizedSearchCV"
   ]
  },
  {
   "cell_type": "code",
   "execution_count": 51,
   "metadata": {},
   "outputs": [
    {
     "data": {
      "text/html": [
       "<div>\n",
       "<style scoped>\n",
       "    .dataframe tbody tr th:only-of-type {\n",
       "        vertical-align: middle;\n",
       "    }\n",
       "\n",
       "    .dataframe tbody tr th {\n",
       "        vertical-align: top;\n",
       "    }\n",
       "\n",
       "    .dataframe thead th {\n",
       "        text-align: right;\n",
       "    }\n",
       "</style>\n",
       "<table border=\"1\" class=\"dataframe\">\n",
       "  <thead>\n",
       "    <tr style=\"text-align: right;\">\n",
       "      <th></th>\n",
       "      <th>Train RMSE</th>\n",
       "      <th>Test RMSE</th>\n",
       "      <th>Hyperparameters</th>\n",
       "      <th>Training+Test Time(sec)</th>\n",
       "    </tr>\n",
       "    <tr>\n",
       "      <th>Modelling Algo</th>\n",
       "      <th></th>\n",
       "      <th></th>\n",
       "      <th></th>\n",
       "      <th></th>\n",
       "    </tr>\n",
       "  </thead>\n",
       "  <tbody>\n",
       "    <tr>\n",
       "      <th>Linear Regression</th>\n",
       "      <td>29.847573</td>\n",
       "      <td>30.228254</td>\n",
       "      <td></td>\n",
       "      <td>0.516</td>\n",
       "    </tr>\n",
       "    <tr>\n",
       "      <th>Ridge Regression</th>\n",
       "      <td>29.847569</td>\n",
       "      <td>30.228295</td>\n",
       "      <td>{'alpha': 145}</td>\n",
       "      <td>6.917</td>\n",
       "    </tr>\n",
       "    <tr>\n",
       "      <th>Lasso Regression</th>\n",
       "      <td>29.847876</td>\n",
       "      <td>30.233222</td>\n",
       "      <td>{'alpha': 0.24000000000000002}</td>\n",
       "      <td>31.328</td>\n",
       "    </tr>\n",
       "    <tr>\n",
       "      <th>Random Forest</th>\n",
       "      <td>29.847876</td>\n",
       "      <td>30.233222</td>\n",
       "      <td>{'n_jobs': -1, 'n_estimators': 500, 'min_sampl...</td>\n",
       "      <td>6706</td>\n",
       "    </tr>\n",
       "  </tbody>\n",
       "</table>\n",
       "</div>"
      ],
      "text/plain": [
       "                   Train RMSE  Test RMSE  \\\n",
       "Modelling Algo                             \n",
       "Linear Regression   29.847573  30.228254   \n",
       "Ridge Regression    29.847569  30.228295   \n",
       "Lasso Regression    29.847876  30.233222   \n",
       "Random Forest       29.847876  30.233222   \n",
       "\n",
       "                                                     Hyperparameters  \\\n",
       "Modelling Algo                                                         \n",
       "Linear Regression                                                      \n",
       "Ridge Regression                                      {'alpha': 145}   \n",
       "Lasso Regression                      {'alpha': 0.24000000000000002}   \n",
       "Random Forest      {'n_jobs': -1, 'n_estimators': 500, 'min_sampl...   \n",
       "\n",
       "                  Training+Test Time(sec)  \n",
       "Modelling Algo                             \n",
       "Linear Regression                   0.516  \n",
       "Ridge Regression                    6.917  \n",
       "Lasso Regression                   31.328  \n",
       "Random Forest                        6706  "
      ]
     },
     "execution_count": 51,
     "metadata": {},
     "output_type": "execute_result"
    }
   ],
   "source": [
    "algo_score.loc['Random Forest', 'Training+Test Time(sec)'] = 6706\n",
    "cv_time.append(6706)\n",
    "algo_score"
   ]
  },
  {
   "cell_type": "markdown",
   "metadata": {},
   "source": [
    "### Ensemble Method - Gradient Boost"
   ]
  },
  {
   "cell_type": "markdown",
   "metadata": {},
   "source": [
    "Best parameters for Gradient Boost Model: {'n_estimators': 500, 'min_samples_split': 2, 'min_samples_leaf': 10, 'max_features': 'sqrt', 'max_depth': 60, 'learning_rate': 0.01}"
   ]
  },
  {
   "cell_type": "code",
   "execution_count": 60,
   "metadata": {},
   "outputs": [],
   "source": [
    "gb_best={'n_estimators': 500, 'min_samples_split': 2, 'min_samples_leaf': 10, 'max_features': 'sqrt', 'max_depth': 60, 'learning_rate': 0.01}"
   ]
  },
  {
   "cell_type": "code",
   "execution_count": 65,
   "metadata": {},
   "outputs": [
    {
     "data": {
      "text/html": [
       "<style>#sk-container-id-1 {color: black;}#sk-container-id-1 pre{padding: 0;}#sk-container-id-1 div.sk-toggleable {background-color: white;}#sk-container-id-1 label.sk-toggleable__label {cursor: pointer;display: block;width: 100%;margin-bottom: 0;padding: 0.3em;box-sizing: border-box;text-align: center;}#sk-container-id-1 label.sk-toggleable__label-arrow:before {content: \"▸\";float: left;margin-right: 0.25em;color: #696969;}#sk-container-id-1 label.sk-toggleable__label-arrow:hover:before {color: black;}#sk-container-id-1 div.sk-estimator:hover label.sk-toggleable__label-arrow:before {color: black;}#sk-container-id-1 div.sk-toggleable__content {max-height: 0;max-width: 0;overflow: hidden;text-align: left;background-color: #f0f8ff;}#sk-container-id-1 div.sk-toggleable__content pre {margin: 0.2em;color: black;border-radius: 0.25em;background-color: #f0f8ff;}#sk-container-id-1 input.sk-toggleable__control:checked~div.sk-toggleable__content {max-height: 200px;max-width: 100%;overflow: auto;}#sk-container-id-1 input.sk-toggleable__control:checked~label.sk-toggleable__label-arrow:before {content: \"▾\";}#sk-container-id-1 div.sk-estimator input.sk-toggleable__control:checked~label.sk-toggleable__label {background-color: #d4ebff;}#sk-container-id-1 div.sk-label input.sk-toggleable__control:checked~label.sk-toggleable__label {background-color: #d4ebff;}#sk-container-id-1 input.sk-hidden--visually {border: 0;clip: rect(1px 1px 1px 1px);clip: rect(1px, 1px, 1px, 1px);height: 1px;margin: -1px;overflow: hidden;padding: 0;position: absolute;width: 1px;}#sk-container-id-1 div.sk-estimator {font-family: monospace;background-color: #f0f8ff;border: 1px dotted black;border-radius: 0.25em;box-sizing: border-box;margin-bottom: 0.5em;}#sk-container-id-1 div.sk-estimator:hover {background-color: #d4ebff;}#sk-container-id-1 div.sk-parallel-item::after {content: \"\";width: 100%;border-bottom: 1px solid gray;flex-grow: 1;}#sk-container-id-1 div.sk-label:hover label.sk-toggleable__label {background-color: #d4ebff;}#sk-container-id-1 div.sk-serial::before {content: \"\";position: absolute;border-left: 1px solid gray;box-sizing: border-box;top: 0;bottom: 0;left: 50%;z-index: 0;}#sk-container-id-1 div.sk-serial {display: flex;flex-direction: column;align-items: center;background-color: white;padding-right: 0.2em;padding-left: 0.2em;position: relative;}#sk-container-id-1 div.sk-item {position: relative;z-index: 1;}#sk-container-id-1 div.sk-parallel {display: flex;align-items: stretch;justify-content: center;background-color: white;position: relative;}#sk-container-id-1 div.sk-item::before, #sk-container-id-1 div.sk-parallel-item::before {content: \"\";position: absolute;border-left: 1px solid gray;box-sizing: border-box;top: 0;bottom: 0;left: 50%;z-index: -1;}#sk-container-id-1 div.sk-parallel-item {display: flex;flex-direction: column;z-index: 1;position: relative;background-color: white;}#sk-container-id-1 div.sk-parallel-item:first-child::after {align-self: flex-end;width: 50%;}#sk-container-id-1 div.sk-parallel-item:last-child::after {align-self: flex-start;width: 50%;}#sk-container-id-1 div.sk-parallel-item:only-child::after {width: 0;}#sk-container-id-1 div.sk-dashed-wrapped {border: 1px dashed gray;margin: 0 0.4em 0.5em 0.4em;box-sizing: border-box;padding-bottom: 0.4em;background-color: white;}#sk-container-id-1 div.sk-label label {font-family: monospace;font-weight: bold;display: inline-block;line-height: 1.2em;}#sk-container-id-1 div.sk-label-container {text-align: center;}#sk-container-id-1 div.sk-container {/* jupyter's `normalize.less` sets `[hidden] { display: none; }` but bootstrap.min.css set `[hidden] { display: none !important; }` so we also need the `!important` here to be able to override the default hidden behavior on the sphinx rendered scikit-learn.org. See: https://github.com/scikit-learn/scikit-learn/issues/21755 */display: inline-block !important;position: relative;}#sk-container-id-1 div.sk-text-repr-fallback {display: none;}</style><div id=\"sk-container-id-1\" class=\"sk-top-container\"><div class=\"sk-text-repr-fallback\"><pre>GradientBoostingRegressor(learning_rate=0.01, max_depth=60, max_features=&#x27;sqrt&#x27;,\n",
       "                          min_samples_leaf=10, n_estimators=500,\n",
       "                          random_state=42)</pre><b>In a Jupyter environment, please rerun this cell to show the HTML representation or trust the notebook. <br />On GitHub, the HTML representation is unable to render, please try loading this page with nbviewer.org.</b></div><div class=\"sk-container\" hidden><div class=\"sk-item\"><div class=\"sk-estimator sk-toggleable\"><input class=\"sk-toggleable__control sk-hidden--visually\" id=\"sk-estimator-id-1\" type=\"checkbox\" checked><label for=\"sk-estimator-id-1\" class=\"sk-toggleable__label sk-toggleable__label-arrow\">GradientBoostingRegressor</label><div class=\"sk-toggleable__content\"><pre>GradientBoostingRegressor(learning_rate=0.01, max_depth=60, max_features=&#x27;sqrt&#x27;,\n",
       "                          min_samples_leaf=10, n_estimators=500,\n",
       "                          random_state=42)</pre></div></div></div></div></div>"
      ],
      "text/plain": [
       "GradientBoostingRegressor(learning_rate=0.01, max_depth=60, max_features='sqrt',\n",
       "                          min_samples_leaf=10, n_estimators=500,\n",
       "                          random_state=42)"
      ]
     },
     "execution_count": 65,
     "metadata": {},
     "output_type": "execute_result"
    }
   ],
   "source": [
    "gb_reg = GradientBoostingRegressor(\n",
    "    n_estimators=500,\n",
    "    min_samples_split=2,\n",
    "    min_samples_leaf=10,\n",
    "    max_features='sqrt',\n",
    "    max_depth=60,\n",
    "    learning_rate=0.01,\n",
    "    random_state=42\n",
    ")\n",
    "gb_reg.fit(X_train, y_train)"
   ]
  },
  {
   "cell_type": "code",
   "execution_count": 66,
   "metadata": {},
   "outputs": [
    {
     "name": "stdout",
     "output_type": "stream",
     "text": [
      "CPU times: total: 5.03 s\n",
      "Wall time: 22.5 s\n"
     ]
    }
   ],
   "source": [
    "param_summary = [gb_best,'']\n",
    "\n",
    "\n",
    "\n",
    "%time rmse_summary, y_predict_summary = model_fit(gb_reg, X_train, y_train, X_test, y_test)\n",
    "ypred_test['GB'] = y_predict_summary[1]\n",
    "ypred_train['GB'] = y_predict_summary[0]\n",
    "\n",
    "algo_score.loc['Gradient Boost'] = rmse_summary+param_summary"
   ]
  },
  {
   "cell_type": "code",
   "execution_count": 67,
   "metadata": {},
   "outputs": [
    {
     "data": {
      "text/html": [
       "<div>\n",
       "<style scoped>\n",
       "    .dataframe tbody tr th:only-of-type {\n",
       "        vertical-align: middle;\n",
       "    }\n",
       "\n",
       "    .dataframe tbody tr th {\n",
       "        vertical-align: top;\n",
       "    }\n",
       "\n",
       "    .dataframe thead th {\n",
       "        text-align: right;\n",
       "    }\n",
       "</style>\n",
       "<table border=\"1\" class=\"dataframe\">\n",
       "  <thead>\n",
       "    <tr style=\"text-align: right;\">\n",
       "      <th></th>\n",
       "      <th>Train RMSE</th>\n",
       "      <th>Test RMSE</th>\n",
       "      <th>Hyperparameters</th>\n",
       "      <th>Training+Test Time(sec)</th>\n",
       "    </tr>\n",
       "    <tr>\n",
       "      <th>Modelling Algo</th>\n",
       "      <th></th>\n",
       "      <th></th>\n",
       "      <th></th>\n",
       "      <th></th>\n",
       "    </tr>\n",
       "  </thead>\n",
       "  <tbody>\n",
       "    <tr>\n",
       "      <th>Linear Regression</th>\n",
       "      <td>29.847573</td>\n",
       "      <td>30.228254</td>\n",
       "      <td></td>\n",
       "      <td>0.516</td>\n",
       "    </tr>\n",
       "    <tr>\n",
       "      <th>Ridge Regression</th>\n",
       "      <td>29.847569</td>\n",
       "      <td>30.228295</td>\n",
       "      <td>{'alpha': 145}</td>\n",
       "      <td>6.917</td>\n",
       "    </tr>\n",
       "    <tr>\n",
       "      <th>Lasso Regression</th>\n",
       "      <td>29.847876</td>\n",
       "      <td>30.233222</td>\n",
       "      <td>{'alpha': 0.24000000000000002}</td>\n",
       "      <td>31.328</td>\n",
       "    </tr>\n",
       "    <tr>\n",
       "      <th>Random Forest</th>\n",
       "      <td>29.847876</td>\n",
       "      <td>30.233222</td>\n",
       "      <td>{'n_jobs': -1, 'n_estimators': 500, 'min_sampl...</td>\n",
       "      <td>6706</td>\n",
       "    </tr>\n",
       "    <tr>\n",
       "      <th>Gradient Boost</th>\n",
       "      <td>20.592053</td>\n",
       "      <td>27.837220</td>\n",
       "      <td>{'n_estimators': 500, 'min_samples_split': 2, ...</td>\n",
       "      <td>89.796</td>\n",
       "    </tr>\n",
       "  </tbody>\n",
       "</table>\n",
       "</div>"
      ],
      "text/plain": [
       "                   Train RMSE  Test RMSE  \\\n",
       "Modelling Algo                             \n",
       "Linear Regression   29.847573  30.228254   \n",
       "Ridge Regression    29.847569  30.228295   \n",
       "Lasso Regression    29.847876  30.233222   \n",
       "Random Forest       29.847876  30.233222   \n",
       "Gradient Boost      20.592053  27.837220   \n",
       "\n",
       "                                                     Hyperparameters  \\\n",
       "Modelling Algo                                                         \n",
       "Linear Regression                                                      \n",
       "Ridge Regression                                      {'alpha': 145}   \n",
       "Lasso Regression                      {'alpha': 0.24000000000000002}   \n",
       "Random Forest      {'n_jobs': -1, 'n_estimators': 500, 'min_sampl...   \n",
       "Gradient Boost     {'n_estimators': 500, 'min_samples_split': 2, ...   \n",
       "\n",
       "                  Training+Test Time(sec)  \n",
       "Modelling Algo                             \n",
       "Linear Regression                   0.516  \n",
       "Ridge Regression                    6.917  \n",
       "Lasso Regression                   31.328  \n",
       "Random Forest                        6706  \n",
       "Gradient Boost                     89.796  "
      ]
     },
     "execution_count": 67,
     "metadata": {},
     "output_type": "execute_result"
    }
   ],
   "source": [
    "algo_score.loc['Gradient Boost', 'Training+Test Time(sec)'] = 89.796\n",
    "cv_time.append(89.796)\n",
    "algo_score"
   ]
  },
  {
   "cell_type": "markdown",
   "metadata": {},
   "source": [
    "## SUMMARY AND CONCLUSIONS"
   ]
  },
  {
   "cell_type": "markdown",
   "metadata": {},
   "source": [
    "### RMSE"
   ]
  },
  {
   "cell_type": "code",
   "execution_count": 72,
   "metadata": {},
   "outputs": [
    {
     "data": {
      "image/png": "[encoded data removed]",
      "text/plain": [
       "<Figure size 1000x600 with 1 Axes>"
      ]
     },
     "metadata": {},
     "output_type": "display_data"
    }
   ],
   "source": [
    "fig=plt.figure(figsize=(10, 6))\n",
    "axes=fig.add_subplot(1, 1, 1)\n",
    "bar_width = 0.3\n",
    "idx = np.array(range(algo_score.shape[0]))\n",
    "labels = algo_score.index\n",
    "plt.bar(data=algo_score, height='Train RMSE', x=idx, color='g', width=bar_width, label='Training Data')\n",
    "plt.bar(data=algo_score, height='Test RMSE', x=idx+bar_width, color='b', width=bar_width, label='Test Data')\n",
    "plt.xticks(idx, labels, rotation=90)\n",
    "plt.xlabel('Modelling Algorithms')\n",
    "plt.ylabel('RMSE')\n",
    "plt.title('Average RMSE for different Modelling Algorithms')\n",
    "plt.legend()\n",
    "plt.show()"
   ]
  },
  {
   "cell_type": "markdown",
   "metadata": {},
   "source": [
    "From the above plot, we can see that Random Forest and Gradient Boost give us very similar and the best predictions with least RMSE. Comparing the train and test data predictions, the model seems to be be overfitted. But we are not much worried about it, as despite overfitting, we are getting good results on the test data.\n",
    "\n",
    "In order to decide between Random Forest and Gradient Boost, let us look at the time taken in fitting the model. In all the algorithms, the prediction time was very small in comparison to the fit time."
   ]
  },
  {
   "cell_type": "markdown",
   "metadata": {},
   "source": [
    "### Train/Test Time"
   ]
  },
  {
   "cell_type": "code",
   "execution_count": 73,
   "metadata": {},
   "outputs": [
    {
     "data": {
      "image/png": "[encoded data removed]",
      "text/plain": [
       "<Figure size 1000x600 with 1 Axes>"
      ]
     },
     "metadata": {},
     "output_type": "display_data"
    }
   ],
   "source": [
    "fig=plt.figure(figsize=(10, 6))\n",
    "axes=fig.add_subplot(1, 1, 1)\n",
    "bar_width = 0.6\n",
    "idx = np.array(range(algo_score.shape[0]))\n",
    "labels = algo_score.index\n",
    "plt.bar(data=algo_score, height='Training+Test Time(sec)', x=idx, width=bar_width)\n",
    "plt.xticks(idx, labels, rotation=90)\n",
    "plt.xlabel('Modelling Algorithms')\n",
    "plt.ylabel('Training+Test Time(sec)')\n",
    "plt.title('Training Time + Test Time for different Models (sec)')\n",
    "#axes.set_yscale('log')\n",
    "plt.show()"
   ]
  },
  {
   "cell_type": "markdown",
   "metadata": {},
   "source": [
    "As seen above, Gradient Boost is taking much lesser time as compared to Random Forest. So we choose Gradient Boost as our final algorithm. \n",
    "Gradient Boost gives an RMSE of 0.625 on our test data."
   ]
  }
 ],
 "metadata": {
  "kernelspec": {
   "display_name": "Python 3",
   "language": "python",
   "name": "python3"
  },
  "language_info": {
   "codemirror_mode": {
    "name": "ipython",
    "version": 3
   },
   "file_extension": ".py",
   "mimetype": "text/x-python",
   "name": "python",
   "nbconvert_exporter": "python",
   "pygments_lexer": "ipython3",
   "version": "3.12.1"
  }
 },
 "nbformat": 4,
 "nbformat_minor": 2
}
